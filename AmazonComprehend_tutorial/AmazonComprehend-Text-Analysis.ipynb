{
 "cells": [
  {
   "cell_type": "markdown",
   "metadata": {},
   "source": [
    "## Amazon Comprehendを利用したテキスト分析"
   ]
  },
  {
   "cell_type": "markdown",
   "metadata": {},
   "source": [
    "### ライブラリのインストール"
   ]
  },
  {
   "cell_type": "markdown",
   "metadata": {},
   "source": [
    "HTMLタグを除去するために利用"
   ]
  },
  {
   "cell_type": "code",
   "execution_count": null,
   "metadata": {},
   "outputs": [],
   "source": [
    "!pip install beautifulsoup4"
   ]
  },
  {
   "cell_type": "markdown",
   "metadata": {},
   "source": [
    "Amazon Comprehendのバッチ処理結果を読み取るために利用"
   ]
  },
  {
   "cell_type": "code",
   "execution_count": null,
   "metadata": {},
   "outputs": [],
   "source": [
    "!pip install jsonlines"
   ]
  },
  {
   "cell_type": "markdown",
   "metadata": {},
   "source": [
    "### データのダウンロード、確認、加工"
   ]
  },
  {
   "cell_type": "markdown",
   "metadata": {},
   "source": [
    "データ格納先のバケット、Amazon Comprehendのバッチ処理実行ロールを取得"
   ]
  },
  {
   "cell_type": "code",
   "execution_count": null,
   "metadata": {},
   "outputs": [],
   "source": [
    "import sagemaker\n",
    "\n",
    "sagemaker_session = sagemaker.Session()\n",
    "bucket = sagemaker_session.default_bucket()\n",
    "role = sagemaker.get_execution_role()"
   ]
  },
  {
   "cell_type": "markdown",
   "metadata": {},
   "source": [
    "Amazonレビューのデータセットをダウンロード"
   ]
  },
  {
   "cell_type": "code",
   "execution_count": null,
   "metadata": {},
   "outputs": [],
   "source": [
    "import urllib.request\n",
    "import os\n",
    "import gzip\n",
    "import shutil\n",
    "\n",
    "download_url = \"https://s3.amazonaws.com/amazon-reviews-pds/tsv/amazon_reviews_multilingual_JP_v1_00.tsv.gz\" \n",
    "dir_name = \"data\"\n",
    "file_name = \"amazon_review.tsv.gz\"\n",
    "tsv_file_name = \"amazon_review.tsv\"\n",
    "file_path = os.path.join(dir_name,file_name)\n",
    "tsv_file_path = os.path.join(dir_name,tsv_file_name)\n",
    "\n",
    "os.makedirs(dir_name, exist_ok=True)\n",
    "\n",
    "if os.path.exists(file_path):\n",
    "    print(\"File {} already exists. Skipped download.\".format(file_name))\n",
    "else:\n",
    "    urllib.request.urlretrieve(download_url, file_path)\n",
    "    print(\"File downloaded: {}\".format(file_path))\n",
    "    \n",
    "if os.path.exists(tsv_file_path):\n",
    "    print(\"File {} already exists. Skipped unzip.\".format(tsv_file_name))\n",
    "else:\n",
    "    with gzip.open(file_path, mode='rb') as fin:\n",
    "        with open(tsv_file_path, 'wb') as fout:\n",
    "            shutil.copyfileobj(fin, fout)\n",
    "            print(\"File uznipped: {}\".format(tsv_file_path))"
   ]
  },
  {
   "cell_type": "markdown",
   "metadata": {},
   "source": [
    "データの中身を確認"
   ]
  },
  {
   "cell_type": "code",
   "execution_count": null,
   "metadata": {},
   "outputs": [],
   "source": [
    "import pandas as pd\n",
    "\n",
    "df = pd.read_csv(tsv_file_path, sep ='\\t')\n",
    "df.head(5)"
   ]
  },
  {
   "cell_type": "markdown",
   "metadata": {},
   "source": [
    "Amazonレビューのデータセットにはユーザーが付けたスコアが含まれているが、ここではユーザーが入力したテキスト情報を元にテキストの分析を行っていくため、必要な項目のみにデータを絞る"
   ]
  },
  {
   "cell_type": "code",
   "execution_count": null,
   "metadata": {},
   "outputs": [],
   "source": [
    "df = df.loc[:, ['review_id', 'product_id', 'product_category', 'review_body']]"
   ]
  },
  {
   "cell_type": "code",
   "execution_count": null,
   "metadata": {},
   "outputs": [],
   "source": [
    "df.head(20)"
   ]
  },
  {
   "cell_type": "markdown",
   "metadata": {},
   "source": [
    "レビューコメントからHTMLタグを除去する"
   ]
  },
  {
   "cell_type": "code",
   "execution_count": null,
   "metadata": {},
   "outputs": [],
   "source": [
    "from bs4 import BeautifulSoup\n",
    "\n",
    "def filterHtmlTag(txt):\n",
    "    soup = BeautifulSoup(txt, 'html.parser')\n",
    "    txt = soup.get_text(strip=True)\n",
    "    \n",
    "    return txt"
   ]
  },
  {
   "cell_type": "code",
   "execution_count": null,
   "metadata": {},
   "outputs": [],
   "source": [
    "# デモ用にサンプリングしてデータを小さくします\n",
    "df_sample = df.sample(n=5000, random_state=42)"
   ]
  },
  {
   "cell_type": "code",
   "execution_count": null,
   "metadata": {},
   "outputs": [],
   "source": [
    "df_sample['review_body'] = df_sample['review_body'].map(filterHtmlTag)"
   ]
  },
  {
   "cell_type": "markdown",
   "metadata": {},
   "source": [
    "### Amazon ComprehendのリアルタイムAPIを利用したテキスト分析"
   ]
  },
  {
   "cell_type": "code",
   "execution_count": null,
   "metadata": {},
   "outputs": [],
   "source": [
    "import boto3\n",
    "client = boto3.client(service_name='comprehend')"
   ]
  },
  {
   "cell_type": "markdown",
   "metadata": {},
   "source": [
    "サンプルのテキストを1件取得する"
   ]
  },
  {
   "cell_type": "code",
   "execution_count": null,
   "metadata": {},
   "outputs": [],
   "source": [
    "review_text = df_sample.iloc[0,]['review_body']\n",
    "review_text"
   ]
  },
  {
   "cell_type": "markdown",
   "metadata": {},
   "source": [
    "エンティティ（「人」、「場所」、「位置」など）の抽出"
   ]
  },
  {
   "cell_type": "code",
   "execution_count": null,
   "metadata": {},
   "outputs": [],
   "source": [
    "result = client.detect_entities(Text= review_text, LanguageCode='ja')\n",
    "entities = result['Entities'];\n",
    "for entity in entities:\n",
    "    print('Entity', entity)"
   ]
  },
  {
   "cell_type": "markdown",
   "metadata": {},
   "source": [
    "キーフレーズの抽出"
   ]
  },
  {
   "cell_type": "code",
   "execution_count": null,
   "metadata": {
    "scrolled": true
   },
   "outputs": [],
   "source": [
    "result = client.detect_key_phrases(Text= review_text, LanguageCode='ja')\n",
    "keyPhrases = result['KeyPhrases'];\n",
    "for keyPhrase in keyPhrases:\n",
    "    print('KeyPhrase', keyPhrase)"
   ]
  },
  {
   "cell_type": "markdown",
   "metadata": {},
   "source": [
    "感情の分析"
   ]
  },
  {
   "cell_type": "code",
   "execution_count": null,
   "metadata": {},
   "outputs": [],
   "source": [
    "result = client.detect_sentiment(Text= review_text, LanguageCode='ja')\n",
    "sentimentScores = result['SentimentScore'];\n",
    "for sentiment in sentimentScores:\n",
    "    print(sentiment, sentimentScores[sentiment])"
   ]
  },
  {
   "cell_type": "markdown",
   "metadata": {},
   "source": [
    "複数のデータを一括で分析、ここでは20件まとめて分析をする"
   ]
  },
  {
   "cell_type": "code",
   "execution_count": null,
   "metadata": {
    "scrolled": true
   },
   "outputs": [],
   "source": [
    "df_sample_20 = df_sample[0:20]\n",
    "\n",
    "review_text_list = []\n",
    "for i, row in df_sample_20.iterrows():\n",
    "    review_text = row['review_body']\n",
    "    # Comprehendのの入力テキスト上限を超えないよう、ここでは1,000文字までとする\n",
    "    if len(review_text) > 1000:\n",
    "        review_text = review_text[0:1000]\n",
    "    review_text_list.append(review_text)\n",
    "    \n",
    "review_text_list"
   ]
  },
  {
   "cell_type": "markdown",
   "metadata": {},
   "source": [
    "分析結果を1件ずつ表示"
   ]
  },
  {
   "cell_type": "code",
   "execution_count": null,
   "metadata": {},
   "outputs": [],
   "source": [
    "results = client.batch_detect_sentiment(TextList= review_text_list, LanguageCode='ja')\n",
    "resultList = results['ResultList']\n",
    "for result in resultList:\n",
    "    print(result['Index'])\n",
    "    sentimentScores = result['SentimentScore'];\n",
    "    for sentiment in sentimentScores:\n",
    "        print(sentiment, sentimentScores[sentiment])"
   ]
  },
  {
   "cell_type": "markdown",
   "metadata": {},
   "source": [
    "### Amazon ComprehendのバッチAPIを利用したテキスト分析"
   ]
  },
  {
   "cell_type": "markdown",
   "metadata": {},
   "source": [
    "大量のテキストデータを分析したい場合にはバッチAPIが利用可能、ここでは5,000件のデータをバッチで分析する    \n",
    "バッチ分析用にテキストデータを作成\n",
    "（1ファイル、1テキスト）"
   ]
  },
  {
   "cell_type": "code",
   "execution_count": null,
   "metadata": {},
   "outputs": [],
   "source": [
    "import os\n",
    "\n",
    "OUTPUT_DIR = './comprehend_data/'\n",
    "if not os.path.exists(OUTPUT_DIR):\n",
    "    os.makedirs(OUTPUT_DIR)"
   ]
  },
  {
   "cell_type": "code",
   "execution_count": null,
   "metadata": {},
   "outputs": [],
   "source": [
    "review_text_list = []\n",
    "for i, row in df_sample.iterrows():\n",
    "    review_id = row['review_id']\n",
    "    review_text = row['review_body']\n",
    "    \n",
    "    # Comprehendのの入力テキスト上限を超えないよう、ここでは1,000文字までとする\n",
    "    if len(review_text) > 1000:\n",
    "        review_text = review_text[0:1000]\n",
    "    \n",
    "    file_name = 'comprehend_data/' + review_id + '.txt'\n",
    "    with open(file_name, mode='w') as f:\n",
    "        f.write(review_text)"
   ]
  },
  {
   "cell_type": "markdown",
   "metadata": {},
   "source": [
    "作成したファイル群を確認してみる"
   ]
  },
  {
   "cell_type": "code",
   "execution_count": null,
   "metadata": {},
   "outputs": [],
   "source": [
    "!ls comprehend_data"
   ]
  },
  {
   "cell_type": "markdown",
   "metadata": {},
   "source": [
    "バッチ分析対象のテキストデータの格納先S3URL、バッチ処理出力結果の格納先S3URLを作成"
   ]
  },
  {
   "cell_type": "code",
   "execution_count": null,
   "metadata": {},
   "outputs": [],
   "source": [
    "upload_url = 's3://' + bucket + '/comprehend-exsample/batch-sentiment/'\n",
    "output_url = 's3://' + bucket + '/comprehend-exsample/batch-sentiment-output/'\n",
    "\n",
    "print(upload_url)\n",
    "print(output_url)"
   ]
  },
  {
   "cell_type": "markdown",
   "metadata": {},
   "source": [
    "バッチ分析対象のテキストデータをS3にアップロード"
   ]
  },
  {
   "cell_type": "code",
   "execution_count": null,
   "metadata": {},
   "outputs": [],
   "source": [
    "!aws s3 cp comprehend_data {upload_url} --recursive"
   ]
  },
  {
   "cell_type": "markdown",
   "metadata": {},
   "source": [
    "バッチ分析ジョブの実行"
   ]
  },
  {
   "cell_type": "code",
   "execution_count": null,
   "metadata": {},
   "outputs": [],
   "source": [
    "import time\n",
    "\n",
    "timestamp = time.strftime('-%Y-%m-%d-%H-%M-%S', time.gmtime())\n",
    "job_name = 'batch-sentiment-job' + timestamp\n",
    "\n",
    "dataAccessRoleArn = role\n",
    "inputDataConfig = {\"S3Uri\": upload_url, \"InputFormat\": \"ONE_DOC_PER_FILE\"}\n",
    "outputDataConfig = {\"S3Uri\": output_url}\n",
    "\n",
    "results = client.start_sentiment_detection_job(\n",
    "    DataAccessRoleArn=dataAccessRoleArn, \n",
    "    InputDataConfig=inputDataConfig,\n",
    "    OutputDataConfig=outputDataConfig, \n",
    "    LanguageCode='ja'\n",
    ")"
   ]
  },
  {
   "cell_type": "code",
   "execution_count": null,
   "metadata": {},
   "outputs": [],
   "source": [
    "results"
   ]
  },
  {
   "cell_type": "markdown",
   "metadata": {},
   "source": [
    "ジョブIDの取得（ステータスチェック、結果取得で利用）"
   ]
  },
  {
   "cell_type": "code",
   "execution_count": null,
   "metadata": {},
   "outputs": [],
   "source": [
    "jobId = results['JobId']\n",
    "jobId"
   ]
  },
  {
   "cell_type": "markdown",
   "metadata": {},
   "source": [
    "ジョブの実行ステータスを確認\n",
    "（ジョブが終了するまでポーリングでステータスを確認する。10分程度掛かります）"
   ]
  },
  {
   "cell_type": "code",
   "execution_count": null,
   "metadata": {},
   "outputs": [],
   "source": [
    "import time\n",
    "\n",
    "status = None\n",
    "max_time = time.time() + 3*60*60 # 3 hours\n",
    "while time.time() < max_time:\n",
    "    describe_sentiment_detection_job_results = client.describe_sentiment_detection_job(JobId=jobId)\n",
    "\n",
    "    status = describe_sentiment_detection_job_results[\"SentimentDetectionJobProperties\"][\"JobStatus\"]\n",
    "    \n",
    "    if status == \"IN_PROGRESS\":\n",
    "        print(\"SentimentDetectionJob: {}\".format(status))\n",
    "        time.sleep(60)\n",
    "    else:\n",
    "        print(\"SentimentDetectionJob: {}\".format(status))\n",
    "        break\n"
   ]
  },
  {
   "cell_type": "markdown",
   "metadata": {},
   "source": [
    "ジョブの実行結果を表示"
   ]
  },
  {
   "cell_type": "code",
   "execution_count": null,
   "metadata": {},
   "outputs": [],
   "source": [
    "describe_sentiment_detection_job_results"
   ]
  },
  {
   "cell_type": "markdown",
   "metadata": {},
   "source": [
    "分析結果の出力パスを確認"
   ]
  },
  {
   "cell_type": "code",
   "execution_count": null,
   "metadata": {},
   "outputs": [],
   "source": [
    "describe_sentiment_detection_job_results['SentimentDetectionJobProperties']['OutputDataConfig']['S3Uri']"
   ]
  },
  {
   "cell_type": "markdown",
   "metadata": {},
   "source": [
    "分析結果のデータをローカルにダウンロード"
   ]
  },
  {
   "cell_type": "code",
   "execution_count": null,
   "metadata": {},
   "outputs": [],
   "source": [
    "!aws s3 cp {describe_sentiment_detection_job_results['SentimentDetectionJobProperties']['OutputDataConfig']['S3Uri']} ."
   ]
  },
  {
   "cell_type": "markdown",
   "metadata": {},
   "source": [
    "分析結果のデータを解凍"
   ]
  },
  {
   "cell_type": "code",
   "execution_count": null,
   "metadata": {},
   "outputs": [],
   "source": [
    "!tar -xvzf output.tar.gz"
   ]
  },
  {
   "cell_type": "markdown",
   "metadata": {},
   "source": [
    "分析結果のデータを表示"
   ]
  },
  {
   "cell_type": "code",
   "execution_count": null,
   "metadata": {},
   "outputs": [],
   "source": [
    "!head output"
   ]
  },
  {
   "cell_type": "markdown",
   "metadata": {},
   "source": [
    "分析結果のデータを読み込み"
   ]
  },
  {
   "cell_type": "code",
   "execution_count": null,
   "metadata": {},
   "outputs": [],
   "source": [
    "import jsonlines\n",
    "\n",
    "id_list = []\n",
    "sentiment_positive_list = []\n",
    "sentiment_negative_list = []\n",
    "sentiment_neutral_list = []\n",
    "sentiment_mixed_list = []\n",
    "\n",
    "with jsonlines.open('output') as reader:\n",
    "    for obj in reader:\n",
    "        review_id = obj['File'][:-4]\n",
    "\n",
    "        id_list.append(review_id)\n",
    "        \n",
    "        scores = obj['SentimentScore']\n",
    "        positive = scores['Positive']\n",
    "        negative = scores['Negative']\n",
    "        neutral = scores['Neutral']\n",
    "        mixed = scores['Mixed']\n",
    "        \n",
    "        sentiment_positive_list.append(positive)\n",
    "        sentiment_negative_list.append(negative)\n",
    "        sentiment_neutral_list.append(neutral)\n",
    "        sentiment_mixed_list.append(mixed)\n"
   ]
  },
  {
   "cell_type": "code",
   "execution_count": null,
   "metadata": {},
   "outputs": [],
   "source": [
    "scored_df = pd.DataFrame({'review_id':id_list, 'positive':sentiment_positive_list, 'negative':sentiment_negative_list, \n",
    "                          'neutral':sentiment_neutral_list, 'mixed':sentiment_mixed_list, })"
   ]
  },
  {
   "cell_type": "code",
   "execution_count": null,
   "metadata": {},
   "outputs": [],
   "source": [
    "scored_df.head()"
   ]
  },
  {
   "cell_type": "markdown",
   "metadata": {},
   "source": [
    "元データと分析結果データをマージ"
   ]
  },
  {
   "cell_type": "code",
   "execution_count": null,
   "metadata": {},
   "outputs": [],
   "source": [
    "joined_df = pd.merge(df_sample, scored_df, on='review_id')"
   ]
  },
  {
   "cell_type": "code",
   "execution_count": null,
   "metadata": {},
   "outputs": [],
   "source": [
    "joined_df.head()"
   ]
  },
  {
   "cell_type": "markdown",
   "metadata": {},
   "source": [
    "分析結果がネガティブだったものを確認"
   ]
  },
  {
   "cell_type": "code",
   "execution_count": null,
   "metadata": {},
   "outputs": [],
   "source": [
    "negative_top10_df = joined_df.sort_values('negative', ascending=False)[0:10]"
   ]
  },
  {
   "cell_type": "code",
   "execution_count": null,
   "metadata": {},
   "outputs": [],
   "source": [
    "negative_top10_df.head(10)"
   ]
  },
  {
   "cell_type": "markdown",
   "metadata": {},
   "source": [
    "分析結果がポジティブだったものを確認"
   ]
  },
  {
   "cell_type": "code",
   "execution_count": null,
   "metadata": {},
   "outputs": [],
   "source": [
    "positive_top10_df = joined_df.sort_values('positive', ascending=False)[0:10]"
   ]
  },
  {
   "cell_type": "code",
   "execution_count": null,
   "metadata": {},
   "outputs": [],
   "source": [
    "positive_top10_df.head(10)"
   ]
  },
  {
   "cell_type": "code",
   "execution_count": null,
   "metadata": {},
   "outputs": [],
   "source": []
  }
 ],
 "metadata": {
  "kernelspec": {
   "display_name": "conda_mxnet_p36",
   "language": "python",
   "name": "conda_mxnet_p36"
  },
  "language_info": {
   "codemirror_mode": {
    "name": "ipython",
    "version": 3
   },
   "file_extension": ".py",
   "mimetype": "text/x-python",
   "name": "python",
   "nbconvert_exporter": "python",
   "pygments_lexer": "ipython3",
   "version": "3.6.13"
  }
 },
 "nbformat": 4,
 "nbformat_minor": 4
}
