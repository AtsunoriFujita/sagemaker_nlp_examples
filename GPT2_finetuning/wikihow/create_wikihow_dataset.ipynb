{
 "cells": [
  {
   "cell_type": "markdown",
   "id": "4f48f176",
   "metadata": {},
   "source": [
    "## wikiHow dataset (Japanese version)\n",
    "\n",
    "以下を参考にデータセットを作成します。    \n",
    "https://github.com/Katsumata420/wikihow_japanese\n",
    "\n",
    "**データセット作成に1.5h程度かかります。**"
   ]
  },
  {
   "cell_type": "code",
   "execution_count": null,
   "id": "9077112a",
   "metadata": {},
   "outputs": [],
   "source": [
    "!git clone https://github.com/Katsumata420/wikihow_japanese.git"
   ]
  },
  {
   "cell_type": "code",
   "execution_count": null,
   "id": "f06b5a57",
   "metadata": {},
   "outputs": [],
   "source": [
    "%%time\n",
    "\n",
    "%cd wikihow_japanese\n",
    "!bash get.sh\n",
    "%cd ../"
   ]
  },
  {
   "cell_type": "code",
   "execution_count": null,
   "id": "9bc17c88",
   "metadata": {},
   "outputs": [],
   "source": [
    "import pandas as pd"
   ]
  },
  {
   "cell_type": "code",
   "execution_count": null,
   "id": "e9dbc119",
   "metadata": {},
   "outputs": [],
   "source": [
    "train = pd.read_json('./wikihow_japanese/data/output/train.jsonl', orient='records', lines=True)\n",
    "train"
   ]
  },
  {
   "cell_type": "code",
   "execution_count": null,
   "id": "09258701",
   "metadata": {},
   "outputs": [],
   "source": [
    "dev = pd.read_json('./wikihow_japanese/data/output/dev.jsonl', orient='records', lines=True)\n",
    "dev"
   ]
  },
  {
   "cell_type": "code",
   "execution_count": null,
   "id": "2cdeb61c",
   "metadata": {},
   "outputs": [],
   "source": [
    "test = pd.read_json('./wikihow_japanese/data/output/test.jsonl', orient='records', lines=True)\n",
    "test"
   ]
  },
  {
   "cell_type": "code",
   "execution_count": null,
   "id": "a7cd66c3",
   "metadata": {},
   "outputs": [],
   "source": []
  }
 ],
 "metadata": {
  "kernelspec": {
   "display_name": "conda_pytorch_p36",
   "language": "python",
   "name": "conda_pytorch_p36"
  },
  "language_info": {
   "codemirror_mode": {
    "name": "ipython",
    "version": 3
   },
   "file_extension": ".py",
   "mimetype": "text/x-python",
   "name": "python",
   "nbconvert_exporter": "python",
   "pygments_lexer": "ipython3",
   "version": "3.6.13"
  }
 },
 "nbformat": 4,
 "nbformat_minor": 5
}
