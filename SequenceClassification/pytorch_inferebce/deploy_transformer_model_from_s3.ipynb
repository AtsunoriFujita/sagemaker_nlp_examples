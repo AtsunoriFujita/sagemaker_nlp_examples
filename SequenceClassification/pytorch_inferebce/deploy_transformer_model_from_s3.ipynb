{
 "cells": [
  {
   "cell_type": "markdown",
   "id": "c5442cec",
   "metadata": {},
   "source": [
    "# Huggingface Sagemaker-sdk - Deploy 🤗 Transformers for inference"
   ]
  },
  {
   "cell_type": "markdown",
   "id": "f1606472",
   "metadata": {},
   "source": [
    "1. [Introduction](#Introduction)  \n",
    "    a. [Deploy the model directly after training](#Deploy-the-model-directly-after-training)  \n",
    "    b. [Deploy the model using `model_data`](#Deploy-the-model-using-model_data)  "
   ]
  },
  {
   "cell_type": "markdown",
   "id": "52d86f9a",
   "metadata": {},
   "source": [
    "HuggingFace Inference DLCsとAmazon SageMaker Python SDKを使用して、Transformersモデルをデプロイします。    \n",
    "このNotebookでは学習済みのHuggingFace TransformersモデルをSageMakerにデプロイして推論します。"
   ]
  },
  {
   "cell_type": "markdown",
   "id": "cb596669",
   "metadata": {},
   "source": [
    "## API - [SageMaker Hugging Face Inference Toolkit](https://github.com/aws/sagemaker-huggingface-inference-toolkit)\n",
    "\n",
    "\n",
    "`transformers pipelines`を利用して、`pipelines`の全機能を簡単に利用できるAPIを設計しました。APIは[🤗 Accelerated Inference API](https://api-inference.huggingface.co/docs/python/html/detailed_parameters.html)のAPIを参考にしています。つまり、入力は `inputs` keyで定義する必要があり、サポートされている `pipelines` のパラメータを追加したい場合には `parameters` keyで追加することができます。以下にリクエストの例を示します。\n",
    "\n",
    "**text-classification request body**\n",
    "```python\n",
    "{\n",
    "\t\"inputs\": \"Camera - You are awarded a SiPix Digital Camera! call 09061221066 fromm landline. Delivery within 28 days.\"\n",
    "}\n",
    "```\n",
    "**question-answering request body**\n",
    "```python\n",
    "{\n",
    "\t\"inputs\": {\n",
    "\t\t\"question\": \"What is used for inference?\",\n",
    "\t\t\"context\": \"My Name is Philipp and I live in Nuremberg. This model is used with sagemaker for inference.\"\n",
    "\t}\n",
    "}\n",
    "```\n",
    "**zero-shot classification request body**\n",
    "```python\n",
    "{\n",
    "\t\"inputs\": \"Hi, I recently bought a device from your company but it is not working as advertised and I would like to get reimbursed!\",\n",
    "\t\"parameters\": {\n",
    "\t\t\"candidate_labels\": [\n",
    "\t\t\t\"refund\",\n",
    "\t\t\t\"legal\",\n",
    "\t\t\t\"faq\"\n",
    "\t\t]\n",
    "\t}\n",
    "}\n",
    "```"
   ]
  },
  {
   "cell_type": "markdown",
   "id": "06625751",
   "metadata": {},
   "source": [
    "## Deploy a Hugging Face Transformer model from S3 to SageMaker for inference"
   ]
  },
  {
   "cell_type": "markdown",
   "id": "c5b5c3bd",
   "metadata": {},
   "source": [
    "SageMakerで学習したHuggingFaceモデルをAmazon S3からデプロイするには2つの方法があります。トレーニングジョブ終了後に直接デプロイする方法と、S3に保存されたモデルを指す`model_data`を使って後からデプロイする方法があります。\n",
    "\n",
    "### Deploy the model directly after training\n",
    "\n",
    "トレーニングジョブ後にモデルを直接デプロイする場合は、トークナイザーやモデルなど、必要なファイルがトレーニングスクリプトに保存されていることを確認する必要があります。\n",
    "\n",
    "_**NOTE: 日本語の場合、（トークナイザ周りで）追加ライブラリが必要になるため、後からデプロイのみに対応しています（トレーニングジョブ終了後に直接デプロイしたい場合はコンテナの作成が必要です）。**_\n",
    "\n",
    "```python\n",
    "from sagemaker.huggingface import HuggingFace\n",
    "\n",
    "############ pseudo code start ############\n",
    "\n",
    "# create HuggingFace estimator for running training\n",
    "huggingface_estimator = HuggingFace(....)\n",
    "\n",
    "# starting the train job with our uploaded datasets as input\n",
    "huggingface_estimator.fit(...)\n",
    "\n",
    "############ pseudo code end ############\n",
    "\n",
    "# deploy model to SageMaker Inference\n",
    "predictor = huggingface_estimator.deploy(initial_instance_count=1, instance_type=\"ml.m5.xlarge\")\n",
    "\n",
    "# example request, you always need to define \"inputs\"\n",
    "data = {\n",
    "   \"inputs\": \"Camera - You are awarded a SiPix Digital Camera! call 09061221066 fromm landline. Delivery within 28 days.\"\n",
    "}\n",
    "\n",
    "# request\n",
    "predictor.predict(data)\n",
    "\n",
    "```"
   ]
  },
  {
   "cell_type": "markdown",
   "id": "74882c8c",
   "metadata": {},
   "source": [
    "### Deploy the model using `model_data`"
   ]
  },
  {
   "cell_type": "code",
   "execution_count": null,
   "id": "6960bcb1",
   "metadata": {},
   "outputs": [],
   "source": [
    "!pip install --upgrade pip\n",
    "!pip install \"sagemaker>=2.48.1\" \"transformers[ja]==4.6.1\" \"datasets[s3]==1.6.2\" --upgrade"
   ]
  },
  {
   "cell_type": "code",
   "execution_count": null,
   "id": "955c8740",
   "metadata": {},
   "outputs": [],
   "source": [
    "from sagemaker.huggingface import HuggingFaceModel\n",
    "import sagemaker \n",
    "\n",
    "sess = sagemaker.Session()\n",
    "# sagemaker session bucket -> used for uploading data, models and logs\n",
    "# sagemaker will automatically create this bucket if it not exists\n",
    "sagemaker_session_bucket=None\n",
    "if sagemaker_session_bucket is None and sess is not None:\n",
    "    # set to default bucket if a bucket name is not given\n",
    "    sagemaker_session_bucket = sess.default_bucket()\n",
    "\n",
    "role = sagemaker.get_execution_role()\n",
    "sess = sagemaker.Session(default_bucket=sagemaker_session_bucket)\n",
    "\n",
    "print(f\"sagemaker role arn: {role}\")\n",
    "print(f\"sagemaker bucket: {sess.default_bucket()}\")\n",
    "print(f\"sagemaker session region: {sess.boto_region_name}\")"
   ]
  },
  {
   "cell_type": "code",
   "execution_count": null,
   "id": "d431cc08",
   "metadata": {},
   "outputs": [],
   "source": [
    "# S3に保存されたmodel_path\n",
    "model_path = 'YOUR-MODEL-S3-PATH'"
   ]
  },
  {
   "cell_type": "code",
   "execution_count": null,
   "id": "c7503db8",
   "metadata": {},
   "outputs": [],
   "source": [
    "from sagemaker.s3 import S3Downloader\n",
    "\n",
    "# 学習したモデルのダウンロード\n",
    "S3Downloader.download(\n",
    "    s3_uri=model_path, # s3 uri where the trained model is located\n",
    "    local_path='.', # local path where *.targ.gz is saved\n",
    "    sagemaker_session=sess # sagemaker session used for training the model\n",
    ")"
   ]
  },
  {
   "cell_type": "code",
   "execution_count": null,
   "id": "a9a31f8b",
   "metadata": {},
   "outputs": [],
   "source": [
    "import os\n",
    "\n",
    "# modelというフォルダがなければ作るコマンド\n",
    "model_dir_path = './model/'\n",
    "\n",
    "if not os.path.exists(model_dir_path):\n",
    "    os.makedirs(model_dir_path)"
   ]
  },
  {
   "cell_type": "code",
   "execution_count": null,
   "id": "0b1d3d51",
   "metadata": {},
   "outputs": [],
   "source": [
    "# ModelのUnzip\n",
    "!tar -zxvf model.tar.gz -C model"
   ]
  },
  {
   "cell_type": "markdown",
   "id": "9a28ce13",
   "metadata": {},
   "source": [
    "Modelと共に日本語処理のためのトークナイザを保存したいため、ダウンロードし、保存します。"
   ]
  },
  {
   "cell_type": "code",
   "execution_count": null,
   "id": "ddf6579b",
   "metadata": {},
   "outputs": [],
   "source": [
    "from transformers import AutoTokenizer\n",
    "\n",
    "tokenizer_name = 'cl-tohoku/bert-base-japanese-whole-word-masking'\n",
    "\n",
    "# download tokenizer\n",
    "tokenizer = AutoTokenizer.from_pretrained(tokenizer_name)\n",
    "tokenizer.save_pretrained('./model')"
   ]
  },
  {
   "cell_type": "code",
   "execution_count": null,
   "id": "f0ca3a9a",
   "metadata": {},
   "outputs": [],
   "source": [
    "# ModelとTokenizerの圧縮\n",
    "!cd model/ && tar -zcvf ../model.tar.gz . && cd .."
   ]
  },
  {
   "cell_type": "code",
   "execution_count": null,
   "id": "59b97ebe",
   "metadata": {},
   "outputs": [],
   "source": [
    "bucket = sess.default_bucket()\n",
    "prefix = \"samples/sequenceclassification/model\""
   ]
  },
  {
   "cell_type": "code",
   "execution_count": null,
   "id": "98a2419d",
   "metadata": {},
   "outputs": [],
   "source": [
    "# (Tokenizerが一緒になった)Modelを再度Uploadします\n",
    "upload_path = f's3://{bucket}/{prefix}'\n",
    "\n",
    "new_model_path = sagemaker.s3.S3Uploader.upload(\n",
    "    local_path='model.tar.gz', \n",
    "    desired_s3_uri=upload_path\n",
    ")\n",
    "\n",
    "print(new_model_path)"
   ]
  },
  {
   "cell_type": "markdown",
   "id": "b1dcb2d3",
   "metadata": {},
   "source": [
    "デフォルトのHuggingFaceコンテナは日本語処理に必要なライブラリ`fugashi`と`ipadic`がないため、`requirements.txt`経由でインストールします。    \n",
    "推論はSageMaker HuggingFaceのデフォルトを使用します。    \n",
    "`inference.py`は空ですが、`requirements.txt`の実行のために配置して、以下で指定する必要があります。"
   ]
  },
  {
   "cell_type": "code",
   "execution_count": null,
   "id": "66691eb6",
   "metadata": {},
   "outputs": [],
   "source": [
    "# create Hugging Face Model Class\n",
    "huggingface_model = HuggingFaceModel(\n",
    "    source_dir='./scripts',\n",
    "    entry_point='inference.py',\n",
    "    model_data=new_model_path,  # path to your trained sagemaker model\n",
    "    role=role, # iam role with permissions to create an Endpoint\n",
    "    transformers_version=\"4.6\", # transformers version used\n",
    "    pytorch_version=\"1.7\", # pytorch version used\n",
    "    py_version=\"py36\", # python version of the DLC\n",
    ")"
   ]
  },
  {
   "cell_type": "code",
   "execution_count": null,
   "id": "1454e1d1",
   "metadata": {},
   "outputs": [],
   "source": [
    "# deploy model to SageMaker Inference\n",
    "predictor = huggingface_model.deploy(\n",
    "   initial_instance_count=1,\n",
    "   instance_type=\"ml.m5.xlarge\"\n",
    ")"
   ]
  },
  {
   "cell_type": "code",
   "execution_count": null,
   "id": "c636da4f",
   "metadata": {},
   "outputs": [],
   "source": [
    "# example request, you always need to define \"inputs\"\n",
    "data = {\n",
    "    \"inputs\": 'ハワイアンの心和む音楽の中、ちょっとシリアスなドラマが展開していきます。音楽の力ってすごいな、って思いました。'\n",
    "    }"
   ]
  },
  {
   "cell_type": "code",
   "execution_count": null,
   "id": "281dc14e",
   "metadata": {},
   "outputs": [],
   "source": [
    "# request\n",
    "predictor.predict(data)"
   ]
  },
  {
   "cell_type": "code",
   "execution_count": null,
   "id": "c1329a2f",
   "metadata": {},
   "outputs": [],
   "source": [
    "# delete endpoint\n",
    "predictor.delete_endpoint()"
   ]
  },
  {
   "cell_type": "code",
   "execution_count": null,
   "id": "af528c5e",
   "metadata": {},
   "outputs": [],
   "source": []
  }
 ],
 "metadata": {
  "kernelspec": {
   "display_name": "conda_pytorch_p36",
   "language": "python",
   "name": "conda_pytorch_p36"
  },
  "language_info": {
   "codemirror_mode": {
    "name": "ipython",
    "version": 3
   },
   "file_extension": ".py",
   "mimetype": "text/x-python",
   "name": "python",
   "nbconvert_exporter": "python",
   "pygments_lexer": "ipython3",
   "version": "3.6.13"
  }
 },
 "nbformat": 4,
 "nbformat_minor": 5
}
