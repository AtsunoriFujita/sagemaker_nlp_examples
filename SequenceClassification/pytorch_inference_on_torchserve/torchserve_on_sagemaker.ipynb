{
 "cells": [
  {
   "cell_type": "markdown",
   "id": "1fc4dae9",
   "metadata": {},
   "source": [
    "# TorchServe on SageMaker - BERT Japanese example"
   ]
  },
  {
   "cell_type": "markdown",
   "id": "7ee12142",
   "metadata": {},
   "source": [
    "# Introduction\n",
    "\n",
    "- [TorchServe](https://github.com/pytorch/serve)をSageMakerのModelクラスでデプロイします    \n",
    "- `pytorch_training`で学習したモデルを使用します    \n",
    "\n",
    "\n",
    "## IAM Role\n",
    "_**Note**: IAMロールに以下の権限があることを確認してください:_\n",
    "\n",
    "- AmazonSageMakerFullAccess\n",
    "- AmazonS3FullAccess\n",
    "- AmazonEC2ContainerRegistryFullAccess\n",
    "\n",
    "ECRへイメージをpushするために、IAMに`AmazonEC2ContainerRegistryFullAccess`の権限を付与する必要があります。"
   ]
  },
  {
   "cell_type": "markdown",
   "id": "2f873ad1",
   "metadata": {},
   "source": [
    "## Installation\n",
    "\n",
    "このNotebookはSageMakerの`conda_pytorch_p36`カーネルを利用して動作検証しています。"
   ]
  },
  {
   "cell_type": "code",
   "execution_count": null,
   "id": "83a859bc",
   "metadata": {},
   "outputs": [],
   "source": [
    "!pip install --upgrade pip\n",
    "!pip -q install sagemaker awscli boto3 pandas --upgrade"
   ]
  },
  {
   "cell_type": "code",
   "execution_count": null,
   "id": "d6d03231",
   "metadata": {},
   "outputs": [],
   "source": [
    "!pip install torchserve torch-model-archiver"
   ]
  },
  {
   "cell_type": "markdown",
   "id": "5563041a",
   "metadata": {},
   "source": [
    "## Unzip a BERT model and create a TorchServe archive\n",
    "\n",
    "- 以下コードは`pytorch_training`で学習したモデルがこのNotebookと同じ階層に配置されている前提です\n",
    "    - `pytorch_training`内に学習したモデルのダウンロードコマンドがあります\n",
    "- 解凍後に`pytorch_model.bin`と`config.json`が出力されていることを確認してください"
   ]
  },
  {
   "cell_type": "code",
   "execution_count": null,
   "id": "e55bd701",
   "metadata": {},
   "outputs": [],
   "source": [
    "# Unzip\n",
    "\n",
    "!tar -zxvf model.tar.gz"
   ]
  },
  {
   "cell_type": "markdown",
   "id": "0a2e9b79",
   "metadata": {},
   "source": [
    "### torch model archive（.mar）を作成するためのPre-requisites：\n",
    "\n",
    "- serialized-file(.pt)： このファイルは、eager modeモデルの場合のstate_dictを表します\n",
    "- model-file(.py)： このファイルには、モデルアーキテクチャを表すtorch nn.modulesから拡張されたモデルクラスが含まれています。 このパラメーターは、eager modeモデルでは必須です。 このファイルには、torch.nn.modulesから拡張されたクラス定義が1つだけ含まれている必要があります。\n",
    "- index_to_name.json： このファイルには、予測されたインデックスのクラスへのマッピングが含まれています。 デフォルトのTorchServe handlesは、予測されたインデックスと確率を返します。 このファイルは、-extra-filesパラメーターを使用してmodel archiverに渡すことができます。\n",
    "- version： モデルのバージョン\n",
    "- handler： TorchServeのデフォルト handlerの名前またはカスタム推論handler（.py）へのpath\n",
    "\n",
    "**Huggingface_Transformersの場合はこちらに[sample](https://github.com/pytorch/serve/tree/master/examples/Huggingface_Transformers)があります**\n",
    "\n",
    "- このNotebookで使用するBERT_model配下にあるファイルはsampleのコードを一部日本語用に書き換えて使用しています"
   ]
  },
  {
   "cell_type": "code",
   "execution_count": null,
   "id": "3ee5f30e",
   "metadata": {},
   "outputs": [],
   "source": [
    "# TorchServe archive\n",
    "\n",
    "!torch-model-archiver --model-name BERTJPSeqClassification --version 1.0 \\\n",
    "--serialized-file pytorch_model.bin \\\n",
    "--handler BERT_model/Transformer_handler_generalized.py \\\n",
    "--extra-files \"config.json,BERT_model/setup_config.json,BERT_model/index_to_name.json\" \\\n",
    "--model-file BERT_model/model.py"
   ]
  },
  {
   "cell_type": "markdown",
   "id": "039f1f2a",
   "metadata": {},
   "source": [
    "## Create a boto3 session and get specify a role with SageMaker access"
   ]
  },
  {
   "cell_type": "code",
   "execution_count": null,
   "id": "a18e34e8",
   "metadata": {},
   "outputs": [],
   "source": [
    "import boto3, time, json\n",
    "\n",
    "sess = boto3.Session()\n",
    "sm = sess.client('sagemaker')\n",
    "region = sess.region_name\n",
    "account = boto3.client('sts').get_caller_identity().get('Account')"
   ]
  },
  {
   "cell_type": "code",
   "execution_count": null,
   "id": "4a945e5f",
   "metadata": {},
   "outputs": [],
   "source": [
    "import sagemaker\n",
    "\n",
    "role = sagemaker.get_execution_role()\n",
    "sagemaker_session = sagemaker.Session(boto_session=sess)"
   ]
  },
  {
   "cell_type": "code",
   "execution_count": null,
   "id": "c35e8470",
   "metadata": {},
   "outputs": [],
   "source": [
    "bucket_name = sagemaker_session.default_bucket()\n",
    "prefix = 'torchserve'\n",
    "model_file_name = 'BERT_Japanese'\n",
    "\n",
    "!tar cvfz {model_file_name}.tar.gz BERTJPSeqClassification.mar\n",
    "!aws s3 cp {model_file_name}.tar.gz s3://{bucket_name}/{prefix}/models/"
   ]
  },
  {
   "cell_type": "markdown",
   "id": "3aa36885",
   "metadata": {},
   "source": [
    "## Create an Amazon ECR registry\n",
    "\n",
    "（まだ存在しなければ）torchserveコンテナイメージ用の新しいDockerコンテナレジストリを作成します。"
   ]
  },
  {
   "cell_type": "code",
   "execution_count": null,
   "id": "724d20cd",
   "metadata": {},
   "outputs": [],
   "source": [
    "registry_name = 'torchserve-1'\n",
    "!aws ecr create-repository --repository-name {registry_name}"
   ]
  },
  {
   "cell_type": "markdown",
   "id": "a0e71549",
   "metadata": {},
   "source": [
    "## Build a TorchServe Docker container and push it to Amazon ECR¶\n"
   ]
  },
  {
   "cell_type": "code",
   "execution_count": null,
   "id": "9f342745",
   "metadata": {
    "scrolled": true
   },
   "outputs": [],
   "source": [
    "%%time\n",
    "\n",
    "image_label = 'v1'\n",
    "image = f'{account}.dkr.ecr.{region}.amazonaws.com/{registry_name}:{image_label}'\n",
    "\n",
    "%cd container\n",
    "!docker build -t {registry_name}:{image_label} .\n",
    "!$(aws ecr get-login --no-include-email --region {region})\n",
    "!docker tag {registry_name}:{image_label} {image}\n",
    "!docker push {image}\n",
    "%cd ../"
   ]
  },
  {
   "cell_type": "markdown",
   "id": "0dd7c148",
   "metadata": {},
   "source": [
    "## Deploy endpoint and make prediction using Amazon SageMaker SDK\n",
    "\n"
   ]
  },
  {
   "cell_type": "code",
   "execution_count": null,
   "id": "83635d07",
   "metadata": {},
   "outputs": [],
   "source": [
    "endpoint_name = 'torchserve-endpoint-' + time.strftime(\"%Y-%m-%d-%H-%M-%S\", time.gmtime())\n",
    "model_data = f's3://{bucket_name}/{prefix}/models/{model_file_name}.tar.gz'\n",
    "sm_model_name = 'torchserve-bert-japanese'"
   ]
  },
  {
   "cell_type": "code",
   "execution_count": null,
   "id": "7c1f98f3",
   "metadata": {},
   "outputs": [],
   "source": [
    "from sagemaker.model import Model\n",
    "from sagemaker.predictor import Predictor\n",
    "\n",
    "torchserve_model = Model(\n",
    "    model_data=model_data, \n",
    "    image_uri=image,\n",
    "    role =role,\n",
    "    predictor_cls=Predictor,\n",
    "    name =sm_model_name\n",
    ")"
   ]
  },
  {
   "cell_type": "code",
   "execution_count": null,
   "id": "52206c7b",
   "metadata": {},
   "outputs": [],
   "source": [
    "predictor = torchserve_model.deploy(\n",
    "    instance_type='ml.g4dn.xlarge',\n",
    "    initial_instance_count=1,\n",
    "    endpoint_name=endpoint_name\n",
    ")"
   ]
  },
  {
   "cell_type": "markdown",
   "id": "8bceff1f",
   "metadata": {},
   "source": [
    "## SageMaker SDKを使用したリクエスト"
   ]
  },
  {
   "cell_type": "code",
   "execution_count": null,
   "id": "0101f6d7",
   "metadata": {},
   "outputs": [],
   "source": [
    "payload ='ハワイアンの心和む音楽の中、ちょっとシリアスなドラマが展開していきます。音楽の力ってすごいな、って思いました。'"
   ]
  },
  {
   "cell_type": "code",
   "execution_count": null,
   "id": "45d3dd1b",
   "metadata": {},
   "outputs": [],
   "source": [
    "predictor.predict(data=payload).decode(encoding='utf-8')"
   ]
  },
  {
   "cell_type": "markdown",
   "id": "266cdee7",
   "metadata": {},
   "source": [
    "## Boto3を使用したリクエスト"
   ]
  },
  {
   "cell_type": "code",
   "execution_count": null,
   "id": "a867b4ee",
   "metadata": {},
   "outputs": [],
   "source": [
    "'''\n",
    "import boto3\n",
    "client = boto3.client('sagemaker-runtime')\n",
    "\n",
    "response = client.invoke_endpoint(\n",
    "    EndpointName='YOUR_ENDPOINT_NAME',\n",
    "    Body='ハワイアンの心和む音楽の中、ちょっとシリアスなドラマが展開していきます。音楽の力ってすごいな、って思いました。',\n",
    "    ContentType='text/csv',\n",
    "    Accept='application/json'\n",
    ")\n",
    "\n",
    "response['Body'].read().decode(encoding='utf-8')\n",
    "'''"
   ]
  },
  {
   "cell_type": "markdown",
   "id": "a6e8d245",
   "metadata": {},
   "source": [
    "## Endpointの削除\n",
    "- 使い終わったEndpointは削除しましょう\n",
    "- AmazonSageMakerのコンソールからも削除できます"
   ]
  },
  {
   "cell_type": "code",
   "execution_count": null,
   "id": "3d3ddecf",
   "metadata": {},
   "outputs": [],
   "source": [
    "predictor.delete_endpoint()"
   ]
  },
  {
   "cell_type": "code",
   "execution_count": null,
   "id": "a80a9278",
   "metadata": {},
   "outputs": [],
   "source": []
  }
 ],
 "metadata": {
  "kernelspec": {
   "display_name": "conda_pytorch_p36",
   "language": "python",
   "name": "conda_pytorch_p36"
  },
  "language_info": {
   "codemirror_mode": {
    "name": "ipython",
    "version": 3
   },
   "file_extension": ".py",
   "mimetype": "text/x-python",
   "name": "python",
   "nbconvert_exporter": "python",
   "pygments_lexer": "ipython3",
   "version": "3.6.13"
  }
 },
 "nbformat": 4,
 "nbformat_minor": 5
}
